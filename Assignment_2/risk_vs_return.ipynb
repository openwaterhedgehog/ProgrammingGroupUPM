{
 "cells": [
  {
   "cell_type": "code",
   "execution_count": 1,
   "id": "2c0ef633",
   "metadata": {},
   "outputs": [],
   "source": [
    "import numpy as np\n",
    "import pandas as pd\n",
    "import matplotlib.pyplot as plt"
   ]
  },
  {
   "cell_type": "code",
   "execution_count": 2,
   "id": "5ca3b3d5",
   "metadata": {},
   "outputs": [
    {
     "data": {
      "text/html": [
       "<div>\n",
       "<style scoped>\n",
       "    .dataframe tbody tr th:only-of-type {\n",
       "        vertical-align: middle;\n",
       "    }\n",
       "\n",
       "    .dataframe tbody tr th {\n",
       "        vertical-align: top;\n",
       "    }\n",
       "\n",
       "    .dataframe thead th {\n",
       "        text-align: right;\n",
       "    }\n",
       "</style>\n",
       "<table border=\"1\" class=\"dataframe\">\n",
       "  <thead>\n",
       "    <tr style=\"text-align: right;\">\n",
       "      <th></th>\n",
       "      <th>Unnamed: 0</th>\n",
       "      <th>.\\Historical_Prices_Csv\\usdollar_investing.csv</th>\n",
       "      <th>.\\Historical_Prices_Csv\\spdr-gold-trust_investing.csv</th>\n",
       "      <th>.\\Historical_Prices_Csv\\ishares-global-corporate-bond-$_investing.csv</th>\n",
       "      <th>.\\Historical_Prices_Csv\\db-x-trackers-ii-global-sovereign-5_investing.csv</th>\n",
       "      <th>.\\Historical_Prices_Csv\\amundi-msci-wrld-ae-c_investing.csv</th>\n",
       "      <th>RETURN</th>\n",
       "      <th>VOLAT</th>\n",
       "    </tr>\n",
       "  </thead>\n",
       "  <tbody>\n",
       "    <tr>\n",
       "      <th>0</th>\n",
       "      <td>0</td>\n",
       "      <td>1.0</td>\n",
       "      <td>0.0</td>\n",
       "      <td>0.0</td>\n",
       "      <td>0.0</td>\n",
       "      <td>0.0</td>\n",
       "      <td>-6.691566</td>\n",
       "      <td>3.273306</td>\n",
       "    </tr>\n",
       "    <tr>\n",
       "      <th>1</th>\n",
       "      <td>1</td>\n",
       "      <td>0.8</td>\n",
       "      <td>0.2</td>\n",
       "      <td>0.0</td>\n",
       "      <td>0.0</td>\n",
       "      <td>0.0</td>\n",
       "      <td>1.626032</td>\n",
       "      <td>1.550114</td>\n",
       "    </tr>\n",
       "    <tr>\n",
       "      <th>2</th>\n",
       "      <td>2</td>\n",
       "      <td>0.6</td>\n",
       "      <td>0.4</td>\n",
       "      <td>0.0</td>\n",
       "      <td>0.0</td>\n",
       "      <td>0.0</td>\n",
       "      <td>8.572617</td>\n",
       "      <td>3.200567</td>\n",
       "    </tr>\n",
       "    <tr>\n",
       "      <th>3</th>\n",
       "      <td>3</td>\n",
       "      <td>0.4</td>\n",
       "      <td>0.6</td>\n",
       "      <td>0.0</td>\n",
       "      <td>0.0</td>\n",
       "      <td>0.0</td>\n",
       "      <td>14.461361</td>\n",
       "      <td>5.037489</td>\n",
       "    </tr>\n",
       "    <tr>\n",
       "      <th>4</th>\n",
       "      <td>4</td>\n",
       "      <td>0.2</td>\n",
       "      <td>0.8</td>\n",
       "      <td>0.0</td>\n",
       "      <td>0.0</td>\n",
       "      <td>0.0</td>\n",
       "      <td>19.516803</td>\n",
       "      <td>6.598223</td>\n",
       "    </tr>\n",
       "  </tbody>\n",
       "</table>\n",
       "</div>"
      ],
      "text/plain": [
       "   Unnamed: 0  .\\Historical_Prices_Csv\\usdollar_investing.csv  \\\n",
       "0           0                                             1.0   \n",
       "1           1                                             0.8   \n",
       "2           2                                             0.6   \n",
       "3           3                                             0.4   \n",
       "4           4                                             0.2   \n",
       "\n",
       "   .\\Historical_Prices_Csv\\spdr-gold-trust_investing.csv  \\\n",
       "0                                                0.0       \n",
       "1                                                0.2       \n",
       "2                                                0.4       \n",
       "3                                                0.6       \n",
       "4                                                0.8       \n",
       "\n",
       "   .\\Historical_Prices_Csv\\ishares-global-corporate-bond-$_investing.csv  \\\n",
       "0                                                0.0                       \n",
       "1                                                0.0                       \n",
       "2                                                0.0                       \n",
       "3                                                0.0                       \n",
       "4                                                0.0                       \n",
       "\n",
       "   .\\Historical_Prices_Csv\\db-x-trackers-ii-global-sovereign-5_investing.csv  \\\n",
       "0                                                0.0                           \n",
       "1                                                0.0                           \n",
       "2                                                0.0                           \n",
       "3                                                0.0                           \n",
       "4                                                0.0                           \n",
       "\n",
       "   .\\Historical_Prices_Csv\\amundi-msci-wrld-ae-c_investing.csv     RETURN  \\\n",
       "0                                                0.0            -6.691566   \n",
       "1                                                0.0             1.626032   \n",
       "2                                                0.0             8.572617   \n",
       "3                                                0.0            14.461361   \n",
       "4                                                0.0            19.516803   \n",
       "\n",
       "      VOLAT  \n",
       "0  3.273306  \n",
       "1  1.550114  \n",
       "2  3.200567  \n",
       "3  5.037489  \n",
       "4  6.598223  "
      ]
     },
     "execution_count": 2,
     "metadata": {},
     "output_type": "execute_result"
    }
   ],
   "source": [
    "# load data \n",
    "df = pd.read_csv(\"portfolio_metrics_historical_data.csv\")\n",
    "df.head()"
   ]
  },
  {
   "cell_type": "markdown",
   "id": "fdd2a918",
   "metadata": {},
   "source": [
    "# Correlation coefficient "
   ]
  },
  {
   "cell_type": "code",
   "execution_count": 3,
   "id": "2517b62e",
   "metadata": {},
   "outputs": [],
   "source": [
    "corr_coeff = df['RETURN'].corr(df['VOLAT'])"
   ]
  },
  {
   "cell_type": "code",
   "execution_count": 4,
   "id": "1cb19f8b",
   "metadata": {},
   "outputs": [
    {
     "data": {
      "text/plain": [
       "0.7021282549464515"
      ]
     },
     "execution_count": 4,
     "metadata": {},
     "output_type": "execute_result"
    }
   ],
   "source": [
    "corr_coeff"
   ]
  },
  {
   "cell_type": "markdown",
   "id": "2d5ecb67",
   "metadata": {},
   "source": [
    "# Risk-return scatter plot"
   ]
  },
  {
   "cell_type": "code",
   "execution_count": 5,
   "id": "b43108b2",
   "metadata": {},
   "outputs": [
    {
     "data": {
      "image/png": "[encoded data removed]",
      "text/plain": [
       "<Figure size 640x480 with 1 Axes>"
      ]
     },
     "metadata": {},
     "output_type": "display_data"
    }
   ],
   "source": [
    "plt.scatter(df['VOLAT'], df['RETURN'])\n",
    "\n",
    "# Ajouter un titre et des étiquettes d'axes\n",
    "plt.title('Risk-return scatter-plot')\n",
    "plt.xlabel('Risk')\n",
    "plt.ylabel('Return')\n",
    "\n",
    "# Afficher le graphique de dispersion\n",
    "plt.show()"
   ]
  },
  {
   "cell_type": "markdown",
   "id": "84214b73",
   "metadata": {},
   "source": [
    "# Linear Regression"
   ]
  },
  {
   "cell_type": "code",
   "execution_count": 6,
   "id": "47d064c6",
   "metadata": {},
   "outputs": [
    {
     "data": {
      "image/png": "[encoded data removed]",
      "text/plain": [
       "<Figure size 640x480 with 1 Axes>"
      ]
     },
     "metadata": {},
     "output_type": "display_data"
    }
   ],
   "source": [
    "from sklearn.linear_model import LinearRegression\n",
    "\n",
    "reg = LinearRegression()\n",
    "reg.fit(df[['VOLAT']], df['RETURN'])\n",
    "return_pred = reg.predict(df[['VOLAT']])\n",
    "\n",
    "plt.title('Linear Regression')\n",
    "plt.scatter(df['VOLAT'], df['RETURN'])\n",
    "plt.plot(df['VOLAT'], return_pred, color='red')\n",
    "\n",
    "plt.xlabel('RISK')\n",
    "plt.ylabel('RETURN')\n",
    "\n",
    "plt.show()"
   ]
  },
  {
   "cell_type": "code",
   "execution_count": 7,
   "id": "fed7ec64",
   "metadata": {},
   "outputs": [
    {
     "name": "stdout",
     "output_type": "stream",
     "text": [
      "Determination Coefficient (R²) : 0.4929840863941489\n",
      "Mean square error (MSE) : 16.654725090108503\n"
     ]
    }
   ],
   "source": [
    "from sklearn.metrics import r2_score, mean_squared_error\n",
    "\n",
    "# Obtenir le coefficient de détermination (R²)\n",
    "r_squared = reg.score(df[['VOLAT']], df['RETURN'])\n",
    "\n",
    "# Obtenir l'erreur quadratique moyenne (EQM)\n",
    "y_pred = reg.predict(df[['VOLAT']])\n",
    "mse = mean_squared_error(df['RETURN'], return_pred)\n",
    "\n",
    "# Afficher le coefficient de détermination (R²) et l'erreur quadratique moyenne (EQM)\n",
    "print('Determination Coefficient (R²) :', r_squared)\n",
    "print('Mean square error (MSE) :', mse)"
   ]
  },
  {
   "cell_type": "markdown",
   "id": "599bcf51",
   "metadata": {},
   "source": [
    "# Group portefolios by risk"
   ]
  },
  {
   "cell_type": "code",
   "execution_count": 8,
   "id": "7d958b7a",
   "metadata": {},
   "outputs": [],
   "source": [
    "df['risk_group'] = pd.qcut(df['VOLAT'], q=3, labels=['low', 'medium', 'high'])"
   ]
  },
  {
   "cell_type": "code",
   "execution_count": 14,
   "id": "191c7d95",
   "metadata": {},
   "outputs": [
    {
     "data": {
      "text/html": [
       "<div>\n",
       "<style scoped>\n",
       "    .dataframe tbody tr th:only-of-type {\n",
       "        vertical-align: middle;\n",
       "    }\n",
       "\n",
       "    .dataframe tbody tr th {\n",
       "        vertical-align: top;\n",
       "    }\n",
       "\n",
       "    .dataframe thead th {\n",
       "        text-align: right;\n",
       "    }\n",
       "</style>\n",
       "<table border=\"1\" class=\"dataframe\">\n",
       "  <thead>\n",
       "    <tr style=\"text-align: right;\">\n",
       "      <th></th>\n",
       "      <th>Unnamed: 0</th>\n",
       "      <th>.\\Historical_Prices_Csv\\usdollar_investing.csv</th>\n",
       "      <th>.\\Historical_Prices_Csv\\spdr-gold-trust_investing.csv</th>\n",
       "      <th>.\\Historical_Prices_Csv\\ishares-global-corporate-bond-$_investing.csv</th>\n",
       "      <th>.\\Historical_Prices_Csv\\db-x-trackers-ii-global-sovereign-5_investing.csv</th>\n",
       "      <th>.\\Historical_Prices_Csv\\amundi-msci-wrld-ae-c_investing.csv</th>\n",
       "      <th>RETURN</th>\n",
       "      <th>VOLAT</th>\n",
       "      <th>risk_group</th>\n",
       "    </tr>\n",
       "  </thead>\n",
       "  <tbody>\n",
       "    <tr>\n",
       "      <th>0</th>\n",
       "      <td>0</td>\n",
       "      <td>1.0</td>\n",
       "      <td>0.0</td>\n",
       "      <td>0.0</td>\n",
       "      <td>0.0</td>\n",
       "      <td>0.0</td>\n",
       "      <td>-6.691566</td>\n",
       "      <td>3.273306</td>\n",
       "      <td>medium</td>\n",
       "    </tr>\n",
       "    <tr>\n",
       "      <th>1</th>\n",
       "      <td>1</td>\n",
       "      <td>0.8</td>\n",
       "      <td>0.2</td>\n",
       "      <td>0.0</td>\n",
       "      <td>0.0</td>\n",
       "      <td>0.0</td>\n",
       "      <td>1.626032</td>\n",
       "      <td>1.550114</td>\n",
       "      <td>low</td>\n",
       "    </tr>\n",
       "    <tr>\n",
       "      <th>2</th>\n",
       "      <td>2</td>\n",
       "      <td>0.6</td>\n",
       "      <td>0.4</td>\n",
       "      <td>0.0</td>\n",
       "      <td>0.0</td>\n",
       "      <td>0.0</td>\n",
       "      <td>8.572617</td>\n",
       "      <td>3.200567</td>\n",
       "      <td>medium</td>\n",
       "    </tr>\n",
       "    <tr>\n",
       "      <th>3</th>\n",
       "      <td>3</td>\n",
       "      <td>0.4</td>\n",
       "      <td>0.6</td>\n",
       "      <td>0.0</td>\n",
       "      <td>0.0</td>\n",
       "      <td>0.0</td>\n",
       "      <td>14.461361</td>\n",
       "      <td>5.037489</td>\n",
       "      <td>high</td>\n",
       "    </tr>\n",
       "    <tr>\n",
       "      <th>4</th>\n",
       "      <td>4</td>\n",
       "      <td>0.2</td>\n",
       "      <td>0.8</td>\n",
       "      <td>0.0</td>\n",
       "      <td>0.0</td>\n",
       "      <td>0.0</td>\n",
       "      <td>19.516803</td>\n",
       "      <td>6.598223</td>\n",
       "      <td>high</td>\n",
       "    </tr>\n",
       "  </tbody>\n",
       "</table>\n",
       "</div>"
      ],
      "text/plain": [
       "   Unnamed: 0  .\\Historical_Prices_Csv\\usdollar_investing.csv  \\\n",
       "0           0                                             1.0   \n",
       "1           1                                             0.8   \n",
       "2           2                                             0.6   \n",
       "3           3                                             0.4   \n",
       "4           4                                             0.2   \n",
       "\n",
       "   .\\Historical_Prices_Csv\\spdr-gold-trust_investing.csv  \\\n",
       "0                                                0.0       \n",
       "1                                                0.2       \n",
       "2                                                0.4       \n",
       "3                                                0.6       \n",
       "4                                                0.8       \n",
       "\n",
       "   .\\Historical_Prices_Csv\\ishares-global-corporate-bond-$_investing.csv  \\\n",
       "0                                                0.0                       \n",
       "1                                                0.0                       \n",
       "2                                                0.0                       \n",
       "3                                                0.0                       \n",
       "4                                                0.0                       \n",
       "\n",
       "   .\\Historical_Prices_Csv\\db-x-trackers-ii-global-sovereign-5_investing.csv  \\\n",
       "0                                                0.0                           \n",
       "1                                                0.0                           \n",
       "2                                                0.0                           \n",
       "3                                                0.0                           \n",
       "4                                                0.0                           \n",
       "\n",
       "   .\\Historical_Prices_Csv\\amundi-msci-wrld-ae-c_investing.csv     RETURN  \\\n",
       "0                                                0.0            -6.691566   \n",
       "1                                                0.0             1.626032   \n",
       "2                                                0.0             8.572617   \n",
       "3                                                0.0            14.461361   \n",
       "4                                                0.0            19.516803   \n",
       "\n",
       "      VOLAT risk_group  \n",
       "0  3.273306     medium  \n",
       "1  1.550114        low  \n",
       "2  3.200567     medium  \n",
       "3  5.037489       high  \n",
       "4  6.598223       high  "
      ]
     },
     "execution_count": 14,
     "metadata": {},
     "output_type": "execute_result"
    }
   ],
   "source": [
    "df.head()"
   ]
  },
  {
   "cell_type": "code",
   "execution_count": 10,
   "id": "a8ae53d8",
   "metadata": {},
   "outputs": [],
   "source": [
    "low_return = df[df['risk_group'] == 'low']['RETURN'].mean()\n",
    "medium_return = df[df['risk_group'] == 'medium']['RETURN'].mean()\n",
    "high_return = df[df['risk_group'] == 'high']['RETURN'].mean()"
   ]
  },
  {
   "cell_type": "code",
   "execution_count": 12,
   "id": "d6e6a53d",
   "metadata": {},
   "outputs": [
    {
     "name": "stdout",
     "output_type": "stream",
     "text": [
      "1.3952188237856509\n",
      "4.824720048838195\n",
      "10.414991776558974\n"
     ]
    }
   ],
   "source": [
    "print(low_return)\n",
    "print(medium_return)\n",
    "print(high_return)"
   ]
  },
  {
   "cell_type": "code",
   "execution_count": 13,
   "id": "6b63235b",
   "metadata": {},
   "outputs": [
    {
     "data": {
      "image/png": "[encoded data removed]",
      "text/plain": [
       "<Figure size 640x480 with 1 Axes>"
      ]
     },
     "metadata": {},
     "output_type": "display_data"
    }
   ],
   "source": [
    "fig, ax = plt.subplots()\n",
    "ax.boxplot([df[df['risk_group']=='low']['RETURN'], df[df['risk_group']=='medium']['RETURN'], df[df['risk_group']=='high']['RETURN']])\n",
    "ax.set_xticklabels(['low risk', 'medium risk', 'high risk'])\n",
    "ax.set_ylabel('RETURN')\n",
    "plt.show()"
   ]
  }
 ],
 "metadata": {
  "kernelspec": {
   "display_name": "Python 3 (ipykernel)",
   "language": "python",
   "name": "python3"
  },
  "language_info": {
   "codemirror_mode": {
    "name": "ipython",
    "version": 3
   },
   "file_extension": ".py",
   "mimetype": "text/x-python",
   "name": "python",
   "nbconvert_exporter": "python",
   "pygments_lexer": "ipython3",
   "version": "3.9.13"
  }
 },
 "nbformat": 4,
 "nbformat_minor": 5
}
